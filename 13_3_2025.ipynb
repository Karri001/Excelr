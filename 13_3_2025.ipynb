{
  "nbformat": 4,
  "nbformat_minor": 0,
  "metadata": {
    "colab": {
      "provenance": []
    },
    "kernelspec": {
      "name": "python3",
      "display_name": "Python 3"
    },
    "language_info": {
      "name": "python"
    }
  },
  "cells": [
    {
      "cell_type": "code",
      "execution_count": 1,
      "metadata": {
        "id": "BHyz5IV1XxO-"
      },
      "outputs": [],
      "source": [
        "import google.generativeai as genai\n",
        "from google.colab import userdata\n",
        "GOOGLE_API_KEY=userdata.get('GOOGLE_API_KEY')\n",
        "genai.configure(api_key=GOOGLE_API_KEY)"
      ]
    },
    {
      "cell_type": "code",
      "source": [
        "from google import genai\n",
        "from google.genai import types\n",
        "client=genai.Client(api_key=GOOGLE_API_KEY)"
      ],
      "metadata": {
        "id": "gcbh-_MZZYhV"
      },
      "execution_count": 2,
      "outputs": []
    },
    {
      "cell_type": "code",
      "source": [
        "import pathlib\n",
        "import textwrap\n",
        "from IPython.display import display,Markdown\n",
        "def to_markdown(text):\n",
        "  text=text.replace('*',' *')\n",
        "  return Markdown(textwrap.indent(text,'> ',predicate=lambda _: True))"
      ],
      "metadata": {
        "id": "M5074NZZX4q2"
      },
      "execution_count": 3,
      "outputs": []
    },
    {
      "cell_type": "code",
      "source": [
        "!pip install google-generativeai --upgrade"
      ],
      "metadata": {
        "colab": {
          "base_uri": "https://localhost:8080/"
        },
        "id": "Fc9YyhqDbx2e",
        "outputId": "ef74479e-286c-44bc-de09-2f4531b258de"
      },
      "execution_count": null,
      "outputs": [
        {
          "output_type": "stream",
          "name": "stdout",
          "text": [
            "Requirement already satisfied: google-generativeai in /usr/local/lib/python3.11/dist-packages (0.8.4)\n",
            "Requirement already satisfied: google-ai-generativelanguage==0.6.15 in /usr/local/lib/python3.11/dist-packages (from google-generativeai) (0.6.15)\n",
            "Requirement already satisfied: google-api-core in /usr/local/lib/python3.11/dist-packages (from google-generativeai) (2.24.1)\n",
            "Requirement already satisfied: google-api-python-client in /usr/local/lib/python3.11/dist-packages (from google-generativeai) (2.160.0)\n",
            "Requirement already satisfied: google-auth>=2.15.0 in /usr/local/lib/python3.11/dist-packages (from google-generativeai) (2.38.0)\n",
            "Requirement already satisfied: protobuf in /usr/local/lib/python3.11/dist-packages (from google-generativeai) (4.25.6)\n",
            "Requirement already satisfied: pydantic in /usr/local/lib/python3.11/dist-packages (from google-generativeai) (2.10.6)\n",
            "Requirement already satisfied: tqdm in /usr/local/lib/python3.11/dist-packages (from google-generativeai) (4.67.1)\n",
            "Requirement already satisfied: typing-extensions in /usr/local/lib/python3.11/dist-packages (from google-generativeai) (4.12.2)\n",
            "Requirement already satisfied: proto-plus<2.0.0dev,>=1.22.3 in /usr/local/lib/python3.11/dist-packages (from google-ai-generativelanguage==0.6.15->google-generativeai) (1.26.0)\n",
            "Requirement already satisfied: googleapis-common-protos<2.0.dev0,>=1.56.2 in /usr/local/lib/python3.11/dist-packages (from google-api-core->google-generativeai) (1.69.0)\n",
            "Requirement already satisfied: requests<3.0.0.dev0,>=2.18.0 in /usr/local/lib/python3.11/dist-packages (from google-api-core->google-generativeai) (2.32.3)\n",
            "Requirement already satisfied: cachetools<6.0,>=2.0.0 in /usr/local/lib/python3.11/dist-packages (from google-auth>=2.15.0->google-generativeai) (5.5.2)\n",
            "Requirement already satisfied: pyasn1-modules>=0.2.1 in /usr/local/lib/python3.11/dist-packages (from google-auth>=2.15.0->google-generativeai) (0.4.1)\n",
            "Requirement already satisfied: rsa<5,>=3.1.4 in /usr/local/lib/python3.11/dist-packages (from google-auth>=2.15.0->google-generativeai) (4.9)\n",
            "Requirement already satisfied: httplib2<1.dev0,>=0.19.0 in /usr/local/lib/python3.11/dist-packages (from google-api-python-client->google-generativeai) (0.22.0)\n",
            "Requirement already satisfied: google-auth-httplib2<1.0.0,>=0.2.0 in /usr/local/lib/python3.11/dist-packages (from google-api-python-client->google-generativeai) (0.2.0)\n",
            "Requirement already satisfied: uritemplate<5,>=3.0.1 in /usr/local/lib/python3.11/dist-packages (from google-api-python-client->google-generativeai) (4.1.1)\n",
            "Requirement already satisfied: annotated-types>=0.6.0 in /usr/local/lib/python3.11/dist-packages (from pydantic->google-generativeai) (0.7.0)\n",
            "Requirement already satisfied: pydantic-core==2.27.2 in /usr/local/lib/python3.11/dist-packages (from pydantic->google-generativeai) (2.27.2)\n",
            "Requirement already satisfied: grpcio<2.0dev,>=1.33.2 in /usr/local/lib/python3.11/dist-packages (from google-api-core[grpc]!=2.0.*,!=2.1.*,!=2.10.*,!=2.2.*,!=2.3.*,!=2.4.*,!=2.5.*,!=2.6.*,!=2.7.*,!=2.8.*,!=2.9.*,<3.0.0dev,>=1.34.1->google-ai-generativelanguage==0.6.15->google-generativeai) (1.70.0)\n",
            "Requirement already satisfied: grpcio-status<2.0.dev0,>=1.33.2 in /usr/local/lib/python3.11/dist-packages (from google-api-core[grpc]!=2.0.*,!=2.1.*,!=2.10.*,!=2.2.*,!=2.3.*,!=2.4.*,!=2.5.*,!=2.6.*,!=2.7.*,!=2.8.*,!=2.9.*,<3.0.0dev,>=1.34.1->google-ai-generativelanguage==0.6.15->google-generativeai) (1.62.3)\n",
            "Requirement already satisfied: pyparsing!=3.0.0,!=3.0.1,!=3.0.2,!=3.0.3,<4,>=2.4.2 in /usr/local/lib/python3.11/dist-packages (from httplib2<1.dev0,>=0.19.0->google-api-python-client->google-generativeai) (3.2.1)\n",
            "Requirement already satisfied: pyasn1<0.7.0,>=0.4.6 in /usr/local/lib/python3.11/dist-packages (from pyasn1-modules>=0.2.1->google-auth>=2.15.0->google-generativeai) (0.6.1)\n",
            "Requirement already satisfied: charset-normalizer<4,>=2 in /usr/local/lib/python3.11/dist-packages (from requests<3.0.0.dev0,>=2.18.0->google-api-core->google-generativeai) (3.4.1)\n",
            "Requirement already satisfied: idna<4,>=2.5 in /usr/local/lib/python3.11/dist-packages (from requests<3.0.0.dev0,>=2.18.0->google-api-core->google-generativeai) (3.10)\n",
            "Requirement already satisfied: urllib3<3,>=1.21.1 in /usr/local/lib/python3.11/dist-packages (from requests<3.0.0.dev0,>=2.18.0->google-api-core->google-generativeai) (2.3.0)\n",
            "Requirement already satisfied: certifi>=2017.4.17 in /usr/local/lib/python3.11/dist-packages (from requests<3.0.0.dev0,>=2.18.0->google-api-core->google-generativeai) (2025.1.31)\n"
          ]
        }
      ]
    },
    {
      "cell_type": "code",
      "source": [
        "import PIL.Image\n",
        "import google.generativeai as genai\n",
        "img=PIL.Image.open('image1.jpg')\n",
        "img\n",
        "model=genai.GenerativeModel('gemini-1.5-flash')\n",
        "response=model.generate_content([\"Write a short, engaging blog post based on this picture.It should include a description of the meal in the photo and talk about my journey meal prepping.\", img],\n",
        "stream=True)\n",
        "response.resolve()"
      ],
      "metadata": {
        "id": "tFLW0j4PYlFc"
      },
      "execution_count": 5,
      "outputs": []
    },
    {
      "cell_type": "code",
      "source": [
        "to_markdown(response.text)"
      ],
      "metadata": {
        "colab": {
          "base_uri": "https://localhost:8080/",
          "height": 336
        },
        "id": "HuYV6xA2beBt",
        "outputId": "7ed671ec-f13a-4b31-ada7-7bf8b7b2889c"
      },
      "execution_count": 6,
      "outputs": [
        {
          "output_type": "execute_result",
          "data": {
            "text/plain": [
              "<IPython.core.display.Markdown object>"
            ],
            "text/markdown": "> ## My Meal Prep Journey: From Chaos to Colorful Containers!\n> \n> Look at these beauties!  Two perfectly portioned containers brimming with deliciousness.  That's my lunch – and dinner – sorted for the next two days, all thanks to the power of meal prepping.\n> \n> This week's masterpiece?  Tender teriyaki chicken, vibrant red and orange carrots,  a healthy dose of broccoli, and fluffy white rice.  It's a flavor explosion in every bite, and the best part?  It's healthy and super convenient.\n> \n> My journey with meal prepping hasn't always been this picture-perfect.  It started with a chaotic mess of half-finished recipes and forgotten leftovers.  I'd spend my evenings scrambling to find something to eat, often resorting to unhealthy takeout.  Then, I decided enough was enough.\n> \n> I started small, prepping just one meal a week.  I learned to plan my meals around what I enjoyed and what was readily available. I experimented with different recipes, discovering that simple is often best.  This teriyaki chicken recipe is a testament to that!  It’s quick, easy, and delivers big on flavor.\n> \n> Slowly but surely, my meal prepping became a habit, a routine. Now, I spend a couple of hours on the weekend prepping my lunches and dinners for the entire week. The payoff is incredible – more time, more energy, and healthier eating habits!  It’s so worth it to avoid the afternoon slump and those last-minute unhealthy decisions.\n> \n> So, if you’re considering embarking on your own meal prep journey, I say go for it!  Start small, find recipes you love, and don't be afraid to experiment.  Soon, you’ll be enjoying your own beautiful, colorful containers, filled with delicious and nutritious meals.  And trust me, that feeling is unbeatable!\n"
          },
          "metadata": {},
          "execution_count": 6
        }
      ]
    },
    {
      "cell_type": "code",
      "source": [
        "response=model.generate_content([\"Generate an accurate caption for this image.\",img])\n",
        "print(response.text)"
      ],
      "metadata": {
        "colab": {
          "base_uri": "https://localhost:8080/",
          "height": 398
        },
        "id": "36O22XA6ckvQ",
        "outputId": "d4ad713f-c1dd-4ead-cfa9-2dfc932ee8ce"
      },
      "execution_count": 7,
      "outputs": [
        {
          "output_type": "stream",
          "name": "stdout",
          "text": [
            "Here are a few caption options for the image:\n",
            "\n",
            "**Option 1 (Simple & Descriptive):**\n",
            "\n",
            "> Healthy and delicious meal prep!  Chicken and broccoli with rice.\n",
            "\n",
            "**Option 2 (More Engaging):**\n",
            "\n",
            "> Lunch goals!  These chicken and veggie bowls are perfect for a quick and healthy meal on the go.  #mealprep #healthyfood #chickendinner #lunchideas\n",
            "\n",
            "**Option 3 (Focus on Convenience):**\n",
            "\n",
            "> Easy weeknight dinners just got easier.  Grab-and-go meal prep containers make healthy eating a breeze.\n",
            "\n",
            "**Option 4 (More Detailed):**\n",
            "\n",
            "> Savory chicken stir-fry with broccoli, carrots, and fluffy rice.  Prepped and ready for the week! #mealprepsunday #healthylifestyle #cleaneating\n",
            "\n",
            "\n",
            "The best option will depend on the context where you intend to use the caption.\n",
            "\n"
          ]
        }
      ]
    },
    {
      "cell_type": "code",
      "source": [
        "response=model.generate_content([\"Generate an negative caption for this image.\",img])\n",
        "print(response.text)"
      ],
      "metadata": {
        "colab": {
          "base_uri": "https://localhost:8080/",
          "height": 398
        },
        "id": "0DSvz8kHeDUY",
        "outputId": "f952f7c0-4b30-4b18-8256-4bf8622aec0b"
      },
      "execution_count": 8,
      "outputs": [
        {
          "output_type": "stream",
          "name": "stdout",
          "text": [
            "Here are a few negative captions for the image of the prepared meals:\n",
            "\n",
            "**Sarcastic/Humorous:**\n",
            "\n",
            "* \"My diet.  It's going great.  (Said no one ever).\"\n",
            "* \"So healthy...said no taste buds ever.\"\n",
            "* \"The epitome of 'eating your feelings' but make it healthy-ish.\"\n",
            "* \"Meal prep? More like *meal dread*.\"\n",
            "* \"This is what 'adulting' looks like. Send help (and pizza).\"\n",
            "\n",
            "**More straightforwardly negative:**\n",
            "\n",
            "* \"Another day, another sad desk lunch.\"\n",
            "* \"This is why I order takeout.\"\n",
            "* \"The blandness is almost palpable.\"\n",
            "* \"My attempt at healthy eating.  Fail.\"\n",
            "* \"Not exactly inspiring.\"\n",
            "\n",
            "\n",
            "Choose the caption that best fits the tone you're going for.\n",
            "\n"
          ]
        }
      ]
    },
    {
      "cell_type": "code",
      "source": [
        "from PIL import Image\n",
        "image_path='girl.jpg'\n",
        "image=Image.open(image_path)\n",
        "response=model.generate_content([\"Describe this image in detail.\",image])\n",
        "print(response.text)"
      ],
      "metadata": {
        "colab": {
          "base_uri": "https://localhost:8080/",
          "height": 273
        },
        "id": "doBO2LFNefeI",
        "outputId": "d72dd4e0-f1da-4f70-e5b9-79e3fce3c042"
      },
      "execution_count": 9,
      "outputs": [
        {
          "output_type": "stream",
          "name": "stdout",
          "text": [
            "Here's a description of the image:\n",
            "\n",
            "Close-up view of a woman with shoulder-length, curly brown hair. \n",
            "\n",
            "\n",
            "She's smiling and pointing to her left with her right index finger. Her arms are crossed, and her right hand is slightly raised. \n",
            "\n",
            "\n",
            "She's wearing a teal or turquoise three-quarter-sleeved top or kurta with a subtle gold print pattern. The top appears to be made of a soft, slightly textured fabric. The neckline is a simple, modest round neck. \n",
            "\n",
            "\n",
            "The background is a plain, off-white or very light gray, providing a clean, uncluttered backdrop that focuses attention on the woman. The overall lighting is soft and even, minimizing harsh shadows. The image conveys a friendly, approachable, and possibly informative tone due to the woman's gesture and expression.\n",
            "\n"
          ]
        }
      ]
    },
    {
      "cell_type": "code",
      "source": [
        "response=model.generate_content([\"What emoitons can you detect in this image?\",image])\n",
        "print(response.text)"
      ],
      "metadata": {
        "colab": {
          "base_uri": "https://localhost:8080/",
          "height": 73
        },
        "id": "RGDXjj3AgQJj",
        "outputId": "801c0df9-3d19-43b2-ad5e-10687c51b33e"
      },
      "execution_count": 10,
      "outputs": [
        {
          "output_type": "stream",
          "name": "stdout",
          "text": [
            "The woman in the image appears to be expressing **confidence** and **friendliness**.  Her smile and direct gaze suggest approachability, while her pointing gesture implies she is actively engaged and perhaps offering information or guidance. There's no indication of negative emotions.\n",
            "\n"
          ]
        }
      ]
    },
    {
      "cell_type": "code",
      "source": [
        "image_path=\"quote.jpg\"\n",
        "image=Image.open(image_path)\n",
        "response=model.generate_content([\"Extract and read the text from this image.\",image])\n",
        "print(response.text)"
      ],
      "metadata": {
        "colab": {
          "base_uri": "https://localhost:8080/",
          "height": 90
        },
        "id": "YakxzAwGhrJT",
        "outputId": "ea251d0e-88fc-4f84-c1cb-29657e39a810"
      },
      "execution_count": 11,
      "outputs": [
        {
          "output_type": "stream",
          "name": "stdout",
          "text": [
            "FAILURE is not the\n",
            "opposite of success\n",
            "it's PART OF\n",
            "SUCCESS\n"
          ]
        }
      ]
    },
    {
      "cell_type": "code",
      "source": [
        "image_path=\"logo1.jpg\"\n",
        "image=Image.open(image_path)\n",
        "response=model.generate_content([\"Identify the brand or company associated with this logo\",image])\n",
        "print(response.text)"
      ],
      "metadata": {
        "id": "TDPP0c4-khdg",
        "colab": {
          "base_uri": "https://localhost:8080/",
          "height": 53
        },
        "outputId": "d9a2561e-4082-4e0e-9418-1cb4e0b26fdd"
      },
      "execution_count": 12,
      "outputs": [
        {
          "output_type": "stream",
          "name": "stdout",
          "text": [
            "That's the logo for **Amazon**.\n",
            "\n"
          ]
        }
      ]
    },
    {
      "cell_type": "code",
      "source": [
        "image_path = \"product.jpg\"\n",
        "image = Image.open(image_path)\n",
        "model = genai.GenerativeModel('gemini-1.5-flash')\n",
        "response = model.generate_content([\"What product is shown in this image?\", image])\n",
        "print(response.text)"
      ],
      "metadata": {
        "colab": {
          "base_uri": "https://localhost:8080/",
          "height": 35
        },
        "id": "8NRaZkHNM80P",
        "outputId": "1fea21c0-da36-4112-f199-0183c3d77381"
      },
      "execution_count": 13,
      "outputs": [
        {
          "output_type": "stream",
          "name": "stdout",
          "text": [
            "That's a pair of black over-ear headphones.\n"
          ]
        }
      ]
    },
    {
      "cell_type": "code",
      "source": [
        "response = model.generate_content([\"Suggest similar products to this one.\", image])\n",
        "print(response.text)"
      ],
      "metadata": {
        "colab": {
          "base_uri": "https://localhost:8080/",
          "height": 418
        },
        "id": "qTbYLhZWN9Dh",
        "outputId": "380f6cbb-994c-4837-e362-8f67d8749d60"
      },
      "execution_count": 14,
      "outputs": [
        {
          "output_type": "stream",
          "name": "stdout",
          "text": [
            "Here are some similar product suggestions based on the image of black over-ear headphones:\n",
            "\n",
            "* **Other over-ear headphones:**  Many brands offer similar styles in black.  Look for headphones with similar features like closed-back design (meaning they block out outside noise), and a padded headband and earcups for comfort.  Brands to consider include Sony, Bose, Sennheiser, Audio-Technica, JBL, and Beats.  Search for \"closed-back over-ear headphones\" to find a wide selection.\n",
            "\n",
            "* **Wireless over-ear headphones:** If the pictured headphones are wireless (though it's not explicitly shown), search for \"wireless closed-back over-ear headphones.\"  This will give you options with Bluetooth connectivity.\n",
            "\n",
            "* **Noise-canceling headphones:**  Many over-ear headphones offer noise cancellation.  This feature actively reduces background noise for a better listening experience.  Search for \"noise-canceling over-ear headphones\" to find options with this functionality.\n",
            "\n",
            "* **Headphones with a similar design aesthetic:** If you like the sleek, minimalist design of the pictured headphones, you can search for terms like \"minimalist headphones,\" \"sleek headphones,\" or \"modern headphones.\" This might reveal similar-looking products from various brands.\n",
            "\n",
            "\n",
            "To narrow down your search, consider the following factors about the original headphones (if you have additional information):\n",
            "\n",
            "* **Price range:** Are you looking for budget-friendly, mid-range, or premium headphones?\n",
            "* **Features:** Do you need specific features like noise cancellation, microphone, or water resistance?\n",
            "* **Sound quality:**  Are you looking for a specific sound signature (e.g., bass-heavy, balanced)?\n",
            "* **Connectivity:** Do you need wired or wireless headphones? (Bluetooth, USB, etc.)\n",
            "\n",
            "\n",
            "By combining these details with your search terms, you can find headphones very similar to the one pictured.\n",
            "\n"
          ]
        }
      ]
    },
    {
      "cell_type": "code",
      "source": [
        "# Open an image containing a price\n",
        "image_path = \"invoice.jpg\"  # Change to your image file\n",
        "image = Image.open(image_path)\n",
        "# Ask Gemini AI to extract the price\n",
        "response = model.generate_content([\"Extract the price from this image.\", image])\n",
        "print(response.text)"
      ],
      "metadata": {
        "colab": {
          "base_uri": "https://localhost:8080/",
          "height": 35
        },
        "id": "Vuxd1eA9PsT3",
        "outputId": "e330886f-2983-4df8-a1a4-3ebaf5600ad8"
      },
      "execution_count": 16,
      "outputs": [
        {
          "output_type": "stream",
          "name": "stdout",
          "text": [
            "The price of each item on the invoice is $10.00.  The subtotal is $100.00, and the grand total, including a 10% tax, is also $100.00.\n"
          ]
        }
      ]
    },
    {
      "cell_type": "code",
      "source": [
        "response = model.generate_content([\"Extract the price, currency, and any discounts from this image.\", image])\n",
        "print(response.text)"
      ],
      "metadata": {
        "colab": {
          "base_uri": "https://localhost:8080/",
          "height": 108
        },
        "id": "RGSeCUVsSL_f",
        "outputId": "9cf613d2-1525-4afe-9e9d-0fa8e9742c41"
      },
      "execution_count": 17,
      "outputs": [
        {
          "output_type": "stream",
          "name": "stdout",
          "text": [
            "Here's the extracted information from the provided invoice image:\n",
            "\n",
            "* **Price:** $10.00 (per item)\n",
            "* **Currency:** USD ($)\n",
            "* **Discounts:** There are no discounts explicitly stated on the invoice.  Although the grand total is the same as the subtotal, there is a 10% tax applied, which is not a discount.\n"
          ]
        }
      ]
    },
    {
      "cell_type": "code",
      "source": [
        "# Open an image containing a price\n",
        "image_path = \"bicycle.jpg\"  # Change to your image file\n",
        "image = Image.open(image_path)\n",
        "# Ask Gemini AI to extract the price\n",
        "response = model.generate_content([\"Identify all objects present in this image.\", image])\n",
        "print(response.text)"
      ],
      "metadata": {
        "colab": {
          "base_uri": "https://localhost:8080/",
          "height": 199
        },
        "id": "58sEZgDRSUzB",
        "outputId": "53ac7349-9487-49b3-bc53-dab1822012a7"
      },
      "execution_count": 18,
      "outputs": [
        {
          "output_type": "stream",
          "name": "stdout",
          "text": [
            "Here are the objects present in the image:\n",
            "\n",
            "* **Two bicycles:** One is black and yellow, the other is white.\n",
            "* **Two men:** Riding the bicycles. One is wearing a blue shirt and camouflage shorts, the other a grey shirt and blue jeans. The second man is also wearing a red hat.\n",
            "* **A motorcycle:** Parked on the left side of the image.\n",
            "* **A building:**  With a partially open roll-up door, windows, and what looks like a small shop inside.\n",
            "* **Chairs:** Visible through the open door of the building.\n",
            "* **A man (in the background):** Sitting inside the building.\n",
            "* **Street/Road:** Wet, indicating possible recent rain.\n",
            "* **Vegetation:** Some grass is visible along the edge of the road.\n"
          ]
        }
      ]
    },
    {
      "cell_type": "code",
      "source": [
        "image = Image.open(\"items.jpg\")\n",
        "# Ask Gemini AI to extract the price\n",
        "response = model.generate_content([\"List all objects in this image and count how many of each are present\", image])\n",
        "print(response.text)"
      ],
      "metadata": {
        "colab": {
          "base_uri": "https://localhost:8080/",
          "height": 507
        },
        "id": "32Po0lyNTVIr",
        "outputId": "bf587260-a2ed-4f77-f2ca-f6dd4791d58c"
      },
      "execution_count": 19,
      "outputs": [
        {
          "output_type": "stream",
          "name": "stdout",
          "text": [
            "Here's a count of the objects in the image:\n",
            "\n",
            "**Countables:**\n",
            "\n",
            "* Eggs: 3\n",
            "* Banana: 1\n",
            "* Olive: 2\n",
            "* Fries: 1 (portion)\n",
            "* Burger: 1\n",
            "* Hot dog: 1\n",
            "* Apple: 1\n",
            "* Carrots: 2\n",
            "* Tomatoes: 3\n",
            "* Watermelon: 1\n",
            "\n",
            "**Uncountables:**\n",
            "\n",
            "* Milk: 1 (container)\n",
            "* Flour: 1 (bag)\n",
            "* Salt: 1 (container)\n",
            "* Sugar: 1 (container)\n",
            "* Jam: 1 (jar)\n",
            "* Meat: 2 (slices)\n",
            "* Rice: 1 (bowl)\n",
            "* Honey: 1 (jar)\n",
            "* Tea: 1 (cup)\n",
            "* Cheese: 1 (slice)\n"
          ]
        }
      ]
    },
    {
      "cell_type": "code",
      "source": [
        "pip install youtube-transcript-api pytube"
      ],
      "metadata": {
        "colab": {
          "base_uri": "https://localhost:8080/"
        },
        "id": "5byRHpmeUMg3",
        "outputId": "7963ac5b-b2a5-420c-c561-784c48ef51d3"
      },
      "execution_count": 20,
      "outputs": [
        {
          "output_type": "stream",
          "name": "stdout",
          "text": [
            "Collecting youtube-transcript-api\n",
            "  Downloading youtube_transcript_api-1.0.1-py3-none-any.whl.metadata (22 kB)\n",
            "Collecting pytube\n",
            "  Downloading pytube-15.0.0-py3-none-any.whl.metadata (5.0 kB)\n",
            "Requirement already satisfied: defusedxml<0.8.0,>=0.7.1 in /usr/local/lib/python3.11/dist-packages (from youtube-transcript-api) (0.7.1)\n",
            "Requirement already satisfied: requests in /usr/local/lib/python3.11/dist-packages (from youtube-transcript-api) (2.32.3)\n",
            "Requirement already satisfied: charset-normalizer<4,>=2 in /usr/local/lib/python3.11/dist-packages (from requests->youtube-transcript-api) (3.4.1)\n",
            "Requirement already satisfied: idna<4,>=2.5 in /usr/local/lib/python3.11/dist-packages (from requests->youtube-transcript-api) (3.10)\n",
            "Requirement already satisfied: urllib3<3,>=1.21.1 in /usr/local/lib/python3.11/dist-packages (from requests->youtube-transcript-api) (2.3.0)\n",
            "Requirement already satisfied: certifi>=2017.4.17 in /usr/local/lib/python3.11/dist-packages (from requests->youtube-transcript-api) (2025.1.31)\n",
            "Downloading youtube_transcript_api-1.0.1-py3-none-any.whl (1.9 MB)\n",
            "\u001b[2K   \u001b[90m━━━━━━━━━━━━━━━━━━━━━━━━━━━━━━━━━━━━━━━━\u001b[0m \u001b[32m1.9/1.9 MB\u001b[0m \u001b[31m22.3 MB/s\u001b[0m eta \u001b[36m0:00:00\u001b[0m\n",
            "\u001b[?25hDownloading pytube-15.0.0-py3-none-any.whl (57 kB)\n",
            "\u001b[2K   \u001b[90m━━━━━━━━━━━━━━━━━━━━━━━━━━━━━━━━━━━━━━━━\u001b[0m \u001b[32m57.6/57.6 kB\u001b[0m \u001b[31m3.7 MB/s\u001b[0m eta \u001b[36m0:00:00\u001b[0m\n",
            "\u001b[?25hInstalling collected packages: pytube, youtube-transcript-api\n",
            "Successfully installed pytube-15.0.0 youtube-transcript-api-1.0.1\n"
          ]
        }
      ]
    },
    {
      "cell_type": "code",
      "source": [
        "from youtube_transcript_api import YouTubeTranscriptApi\n",
        "def get_youtube_transcript(video_url):\n",
        "    \"\"\"Fetches the transcript of a YouTube video.\"\"\"\n",
        "    video_id = video_url.split(\"v=\")[1].split(\"&\")[0]  # Extract video ID\n",
        "    transcript = YouTubeTranscriptApi.get_transcript(video_id)\n",
        "    full_text = \" \".join([t[\"text\"] for t in transcript])\n",
        "    return full_text\n",
        "# Example Usage\n",
        "video_url = \"https://www.youtube.com/watch?v=unYDoA8QGH0&list=PLWEpztHwA4ZT2QlHC74oIz4MsawcvE-QX\"\n",
        "video_transcript = get_youtube_transcript(video_url)\n",
        "print(\"Transcript:\\n\", video_transcript[:500])  # Show first 500 characters"
      ],
      "metadata": {
        "colab": {
          "base_uri": "https://localhost:8080/"
        },
        "id": "ql_jGmfcUoaO",
        "outputId": "61c3c0dd-d7d0-4dab-b61f-aa0a46f5fa26"
      },
      "execution_count": 21,
      "outputs": [
        {
          "output_type": "stream",
          "name": "stdout",
          "text": [
            "Transcript:\n",
            " hi guys today I'm going to introduce you what is machine learning uh these are my presentation content what is machine learning what are the different applications of machine learning different types of machine learning and how to build a machine learning system or model then various kinds of algorithms and later on in this series we are going to take a Hands-On you know case studies or doing programming for various kinds of up algorithms so what is machine learning so machine learning is nothin\n"
          ]
        }
      ]
    },
    {
      "cell_type": "code",
      "source": [
        "# Configure Gemini API\n",
        "import google.generativeai as genai\n",
        "from google.colab import userdata\n",
        "GOOGLE_API_KEY=userdata.get('GOOGLE_API_KEY')\n",
        "genai.configure(api_key=GOOGLE_API_KEY)"
      ],
      "metadata": {
        "id": "gNcwhLJ0VSTo"
      },
      "execution_count": 22,
      "outputs": []
    },
    {
      "cell_type": "code",
      "source": [
        "def summarize_video(text):\n",
        "    \"\"\"Summarizes the YouTube video transcript using Gemini AI.\"\"\"\n",
        "    model = genai.GenerativeModel(\"gemini-1.5-flash\")\n",
        "    prompt = f\"Summarize the following YouTube video transcript:\\n\\n{text}\"\n",
        "    response = model.generate_content(prompt)\n",
        "    return response.text\n",
        "summary = summarize_video(video_transcript)\n",
        "print(\"Summary:\\n\", summary)"
      ],
      "metadata": {
        "colab": {
          "base_uri": "https://localhost:8080/",
          "height": 91
        },
        "id": "-rx6uJCrWE4H",
        "outputId": "82c47283-21b1-4a9f-a5d3-7f7993309733"
      },
      "execution_count": 23,
      "outputs": [
        {
          "output_type": "stream",
          "name": "stdout",
          "text": [
            "Summary:\n",
            " This YouTube video is an introduction to machine learning.  The speaker defines machine learning as learning from data, a subfield of artificial intelligence that creates smarter applications.  The video covers various applications (speech recognition, web search, recommendation systems, computer vision, fraud detection, information retrieval), types (supervised, unsupervised, reinforcement learning), and algorithms of machine learning.  Supervised learning uses labeled data to predict outcomes (classification for categorical data, regression for continuous data); unsupervised learning explores unlabeled data to find patterns (clustering, dimensionality reduction); and reinforcement learning involves an agent learning through trial and error and rewards/penalties.  The video also details the process of building a machine learning model, including data preprocessing (cleaning, scaling, encoding, feature selection), algorithm selection, model building, and evaluation.  The speaker promises future videos with hands-on case studies and algorithm implementations using the Iris dataset as an example.\n",
            "\n"
          ]
        }
      ]
    },
    {
      "cell_type": "code",
      "source": [
        "def extract_video_insights(text):\n",
        "    \"\"\"Extracts key insights from the YouTube video transcript.\"\"\"\n",
        "    model = genai.GenerativeModel(\"gemini-1.5-flash\")\n",
        "    prompt = f\"Extract the key takeaways and insights from this YouTube video:\\n\\n{text}\"\n",
        "    response = model.generate_content(prompt)\n",
        "    return response.text\n",
        "insights = extract_video_insights(video_transcript)\n",
        "print(\"Key Insights:\\n\", insights)"
      ],
      "metadata": {
        "colab": {
          "base_uri": "https://localhost:8080/",
          "height": 963
        },
        "id": "pArqQCOBWXRN",
        "outputId": "fcdd8525-86ce-4672-cb71-a6e9c65c2fd5"
      },
      "execution_count": 24,
      "outputs": [
        {
          "output_type": "stream",
          "name": "stdout",
          "text": [
            "Key Insights:\n",
            " This YouTube video provides an introduction to machine learning. Here are the key takeaways and insights:\n",
            "\n",
            "**What is Machine Learning?**\n",
            "\n",
            "* **Core Concept:** Machine learning is about learning from data.  It's a subfield of AI that allows systems to learn from past data (training data or experience) without explicit programming.  The learned patterns are then used to make predictions about future events.\n",
            "* **Key Components:** Training data, machine learning algorithms, and a resulting model that makes predictions.\n",
            "* **Definitions:**  The video offers several definitions, highlighting the iterative improvement of performance based on experience.  Arthur Samuel's definition (\"giving computers the ability to learn without being explicitly programmed\") is mentioned.\n",
            "\n",
            "**Applications of Machine Learning:**\n",
            "\n",
            "The video showcases diverse applications across various domains:\n",
            "\n",
            "* **Speech Recognition:**  Powering virtual assistants like Siri and Google Assistant.\n",
            "* **Web Search:**  Improving search engine results using algorithms like Naive Bayes.\n",
            "* **Recommendation Systems:**  Suggesting products or content based on user preferences.\n",
            "* **Computer Vision:**  Understanding images and videos to identify objects.\n",
            "* **Information Retrieval:**  Processing vast amounts of data to deliver relevant search results (e.g., Google search).\n",
            "* **Fraud Detection:**  Identifying fraudulent activities online.\n",
            "\n",
            "**Types of Machine Learning:**\n",
            "\n",
            "The video categorizes machine learning into three main types:\n",
            "\n",
            "* **Supervised Learning:** The training data includes labeled outputs.  The algorithm learns to map inputs to outputs.  It's further divided into:\n",
            "    * **Classification:** Predicting categorical outputs (e.g., spam/not spam, identifying flower types).\n",
            "    * **Regression:** Predicting continuous outputs (e.g., predicting house prices, salary).\n",
            "* **Unsupervised Learning:** The training data lacks labeled outputs. The algorithm explores the data's structure to find patterns (e.g., clustering customers into groups).  Examples include clustering analysis and dimensionality reduction.\n",
            "* **Reinforcement Learning:** An agent learns by interacting with an environment, receiving rewards or penalties for its actions. This is commonly used in game playing and robotics.\n",
            "\n",
            "**Building a Machine Learning Model:**\n",
            "\n",
            "The video outlines a typical machine learning workflow:\n",
            "\n",
            "1. **Data Preprocessing:** Cleaning and preparing the data (handling missing values, feature scaling, encoding categorical variables, feature selection/dimensionality reduction).\n",
            "2. **Algorithm Selection:** Choosing an appropriate algorithm based on the problem type (classification, regression, etc.).\n",
            "3. **Model Training:** Applying the chosen algorithm to the training data to create a model.\n",
            "4. **Model Evaluation:** Assessing the model's performance using appropriate metrics.  The presenter emphasizes building multiple models and comparing their performance.\n",
            "\n",
            "**Essential Terminology:**\n",
            "\n",
            "The video introduces key terms used in machine learning, such as:\n",
            "\n",
            "* Features/Attributes/Measurements/Dimensions: Columns in the dataset (excluding the target variable).\n",
            "* Samples/Instances/Observations: Rows in the dataset.\n",
            "* Target Variable/Response Variable: The column to be predicted.\n",
            "* Data sets (like the Iris dataset) are used as examples.\n",
            "\n",
            "\n",
            "**Overall:**  The video serves as a good high-level introduction to machine learning, covering its core concepts, applications, types, and the process of building a model.  It clearly sets the stage for more in-depth discussions in subsequent videos.\n",
            "\n"
          ]
        }
      ]
    },
    {
      "cell_type": "code",
      "source": [
        "def ask_question_about_video(text, question):\n",
        "    \"\"\"Answers user questions about the YouTube video content.\"\"\"\n",
        "    model = genai.GenerativeModel(\"gemini-1.5-flash\")\n",
        "    prompt = f\"The following is a YouTube video transcript:\\n\\n{text}\\n\\nAnswer this question based on the content:\\n{question}\"\n",
        "    response = model.generate_content(prompt)\n",
        "    return response.text\n",
        "question = \"What is the main topic discussed in the video?\"\n",
        "answer = ask_question_about_video(video_transcript, question)\n",
        "print(\"Answer:\\n\", answer)"
      ],
      "metadata": {
        "colab": {
          "base_uri": "https://localhost:8080/",
          "height": 91
        },
        "id": "S5Q24uOvXpUe",
        "outputId": "25632778-5999-4563-a013-d5f51481d848"
      },
      "execution_count": 25,
      "outputs": [
        {
          "output_type": "stream",
          "name": "stdout",
          "text": [
            "Answer:\n",
            " The main topic of the video is an introduction to machine learning.  The speaker covers what machine learning is, its applications, different types of machine learning (supervised, unsupervised, and reinforcement learning), and the process of building a machine learning model.  The video also touches upon various algorithms used in machine learning and promises hands-on case studies in future videos.\n",
            "\n"
          ]
        }
      ]
    },
    {
      "cell_type": "code",
      "source": [],
      "metadata": {
        "id": "CassElCTX416"
      },
      "execution_count": null,
      "outputs": []
    }
  ]
}
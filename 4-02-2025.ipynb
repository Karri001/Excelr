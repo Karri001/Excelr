{
 "cells": [
  {
   "cell_type": "code",
   "execution_count": 1,
   "id": "6c32b5b4-b965-4a18-8138-b98b33263943",
   "metadata": {},
   "outputs": [
    {
     "name": "stdout",
     "output_type": "stream",
     "text": [
      "Collecting emot\n",
      "  Downloading emot-3.1-py3-none-any.whl.metadata (396 bytes)\n",
      "Downloading emot-3.1-py3-none-any.whl (61 kB)\n",
      "Installing collected packages: emot\n",
      "Successfully installed emot-3.1\n"
     ]
    }
   ],
   "source": [
    "#Installing emot library\n",
    "!pip install emot"
   ]
  },
  {
   "cell_type": "code",
   "execution_count": 15,
   "id": "3b34ef2d-c4ba-44f6-a277-41fc028eacdb",
   "metadata": {},
   "outputs": [],
   "source": [
    "#create sample text data with emoji\n",
    "text1 = \"What are you saying 😂. I am the boss😎 , and why are you so😒 \""
   ]
  },
  {
   "cell_type": "code",
   "execution_count": 17,
   "id": "901e2944-34d3-4031-a748-6b321b97ed09",
   "metadata": {},
   "outputs": [],
   "source": [
    "import re\n",
    "from emot.emo_unicode import UNICODE_EMOJI\n",
    "from emot.emo_unicode import EMOTICONS_EMO"
   ]
  },
  {
   "cell_type": "code",
   "execution_count": 19,
   "id": "45be3c7b-232d-4002-b5ae-41c9a5ab826c",
   "metadata": {},
   "outputs": [
    {
     "data": {
      "text/plain": [
       "'What are you saying face_with_tears_of_joy. I am the bosssmiling_face_with_sunglasses , and why are you sounamused_face '"
      ]
     },
     "execution_count": 19,
     "metadata": {},
     "output_type": "execute_result"
    }
   ],
   "source": [
    "# Function for converting emojis into word\n",
    "def converting_emojis(text):\n",
    "    for emot in UNICODE_EMOJI:\n",
    "        text = text.replace(emot, \"_\".join(UNICODE_EMOJI[emot].replace(\",\",\"\")\\\n",
    "                                           .replace(\":\",\"\").split()))\n",
    "    return text\n",
    "converting_emojis(text1)"
   ]
  },
  {
   "cell_type": "code",
   "execution_count": 25,
   "id": "b1b859b1-5988-467f-bdbe-a3931c44de80",
   "metadata": {},
   "outputs": [
    {
     "data": {
      "text/plain": [
       "'What are you saying . I am the boss , and why are you so '"
      ]
     },
     "execution_count": 25,
     "metadata": {},
     "output_type": "execute_result"
    }
   ],
   "source": [
    "def emoji_removal(string):\n",
    "    emoji_unicodes = re.compile(\"[\"\n",
    "                               u\"\\U0001F600-\\U0001F64F\"  # emoticons\n",
    "                               u\"\\U0001F300-\\U0001F5FF\"  # symbols \n",
    "                               u\"\\U0001F680-\\U0001F6FF\"  # transport \n",
    "                               u\"\\U0001F1E0-\\U0001F1FF\"  # flags (iOS)\n",
    "                               u\"\\U00002500-\\U00002BEF\"  \n",
    "                               u\"\\U00002702-\\U000027B0\"\n",
    "                               u\"\\U000024C2-\\U0001F251\"\n",
    "                               u\"\\U0001f926-\\U0001f937\"\n",
    "                               u\"\\U00010000-\\U0010ffff\"\n",
    "                               u\"\\u2640-\\u2642\"\n",
    "                               u\"\\u2600-\\u2B55\"\n",
    "                               u\"\\u200d\"\n",
    "                               u\"\\u23cf\"\n",
    "                               u\"\\u23e9\"\n",
    "                               u\"\\u231a\"\n",
    "                               u\"\\ufe0f\"  \n",
    "                               u\"\\u3030\"\n",
    "                               \"]+\", flags=re.UNICODE)\n",
    "    return emoji_unicodes.sub(r'', string)\n",
    "emoji_removal(text1)"
   ]
  },
  {
   "cell_type": "code",
   "execution_count": null,
   "id": "69430546-9012-41fb-860a-dfa5e1711dfe",
   "metadata": {},
   "outputs": [],
   "source": []
  }
 ],
 "metadata": {
  "kernelspec": {
   "display_name": "Python 3 (ipykernel)",
   "language": "python",
   "name": "python3"
  },
  "language_info": {
   "codemirror_mode": {
    "name": "ipython",
    "version": 3
   },
   "file_extension": ".py",
   "mimetype": "text/x-python",
   "name": "python",
   "nbconvert_exporter": "python",
   "pygments_lexer": "ipython3",
   "version": "3.12.7"
  }
 },
 "nbformat": 4,
 "nbformat_minor": 5
}

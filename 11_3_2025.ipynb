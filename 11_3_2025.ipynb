{
  "nbformat": 4,
  "nbformat_minor": 0,
  "metadata": {
    "colab": {
      "provenance": []
    },
    "kernelspec": {
      "name": "python3",
      "display_name": "Python 3"
    },
    "language_info": {
      "name": "python"
    }
  },
  "cells": [
    {
      "cell_type": "code",
      "execution_count": null,
      "metadata": {
        "id": "BHyz5IV1XxO-"
      },
      "outputs": [],
      "source": [
        "import google.generativeai as genai\n",
        "from google.colab import userdata\n",
        "GOOGLE_API_KEY=userdata.get('GOOGLE_API_KEY')\n",
        "genai.configure(api_key=GOOGLE_API_KEY)"
      ]
    },
    {
      "cell_type": "code",
      "source": [
        "from google import genai\n",
        "from google.genai import types\n",
        "client=genai.Client(api_key=GOOGLE_API_KEY)"
      ],
      "metadata": {
        "id": "gcbh-_MZZYhV"
      },
      "execution_count": null,
      "outputs": []
    },
    {
      "cell_type": "code",
      "source": [
        "import pathlib\n",
        "import textwrap\n",
        "from IPython.display import display,Markdown\n",
        "def to_markdown(text):\n",
        "  text=text.replace('*',' *')\n",
        "  return Markdown(textwrap.indent(text,'> ',predicate=lambda _: True))"
      ],
      "metadata": {
        "id": "M5074NZZX4q2"
      },
      "execution_count": null,
      "outputs": []
    },
    {
      "cell_type": "code",
      "source": [
        "!pip install google-generativeai --upgrade"
      ],
      "metadata": {
        "colab": {
          "base_uri": "https://localhost:8080/"
        },
        "id": "Fc9YyhqDbx2e",
        "outputId": "ef74479e-286c-44bc-de09-2f4531b258de"
      },
      "execution_count": 12,
      "outputs": [
        {
          "output_type": "stream",
          "name": "stdout",
          "text": [
            "Requirement already satisfied: google-generativeai in /usr/local/lib/python3.11/dist-packages (0.8.4)\n",
            "Requirement already satisfied: google-ai-generativelanguage==0.6.15 in /usr/local/lib/python3.11/dist-packages (from google-generativeai) (0.6.15)\n",
            "Requirement already satisfied: google-api-core in /usr/local/lib/python3.11/dist-packages (from google-generativeai) (2.24.1)\n",
            "Requirement already satisfied: google-api-python-client in /usr/local/lib/python3.11/dist-packages (from google-generativeai) (2.160.0)\n",
            "Requirement already satisfied: google-auth>=2.15.0 in /usr/local/lib/python3.11/dist-packages (from google-generativeai) (2.38.0)\n",
            "Requirement already satisfied: protobuf in /usr/local/lib/python3.11/dist-packages (from google-generativeai) (4.25.6)\n",
            "Requirement already satisfied: pydantic in /usr/local/lib/python3.11/dist-packages (from google-generativeai) (2.10.6)\n",
            "Requirement already satisfied: tqdm in /usr/local/lib/python3.11/dist-packages (from google-generativeai) (4.67.1)\n",
            "Requirement already satisfied: typing-extensions in /usr/local/lib/python3.11/dist-packages (from google-generativeai) (4.12.2)\n",
            "Requirement already satisfied: proto-plus<2.0.0dev,>=1.22.3 in /usr/local/lib/python3.11/dist-packages (from google-ai-generativelanguage==0.6.15->google-generativeai) (1.26.0)\n",
            "Requirement already satisfied: googleapis-common-protos<2.0.dev0,>=1.56.2 in /usr/local/lib/python3.11/dist-packages (from google-api-core->google-generativeai) (1.69.0)\n",
            "Requirement already satisfied: requests<3.0.0.dev0,>=2.18.0 in /usr/local/lib/python3.11/dist-packages (from google-api-core->google-generativeai) (2.32.3)\n",
            "Requirement already satisfied: cachetools<6.0,>=2.0.0 in /usr/local/lib/python3.11/dist-packages (from google-auth>=2.15.0->google-generativeai) (5.5.2)\n",
            "Requirement already satisfied: pyasn1-modules>=0.2.1 in /usr/local/lib/python3.11/dist-packages (from google-auth>=2.15.0->google-generativeai) (0.4.1)\n",
            "Requirement already satisfied: rsa<5,>=3.1.4 in /usr/local/lib/python3.11/dist-packages (from google-auth>=2.15.0->google-generativeai) (4.9)\n",
            "Requirement already satisfied: httplib2<1.dev0,>=0.19.0 in /usr/local/lib/python3.11/dist-packages (from google-api-python-client->google-generativeai) (0.22.0)\n",
            "Requirement already satisfied: google-auth-httplib2<1.0.0,>=0.2.0 in /usr/local/lib/python3.11/dist-packages (from google-api-python-client->google-generativeai) (0.2.0)\n",
            "Requirement already satisfied: uritemplate<5,>=3.0.1 in /usr/local/lib/python3.11/dist-packages (from google-api-python-client->google-generativeai) (4.1.1)\n",
            "Requirement already satisfied: annotated-types>=0.6.0 in /usr/local/lib/python3.11/dist-packages (from pydantic->google-generativeai) (0.7.0)\n",
            "Requirement already satisfied: pydantic-core==2.27.2 in /usr/local/lib/python3.11/dist-packages (from pydantic->google-generativeai) (2.27.2)\n",
            "Requirement already satisfied: grpcio<2.0dev,>=1.33.2 in /usr/local/lib/python3.11/dist-packages (from google-api-core[grpc]!=2.0.*,!=2.1.*,!=2.10.*,!=2.2.*,!=2.3.*,!=2.4.*,!=2.5.*,!=2.6.*,!=2.7.*,!=2.8.*,!=2.9.*,<3.0.0dev,>=1.34.1->google-ai-generativelanguage==0.6.15->google-generativeai) (1.70.0)\n",
            "Requirement already satisfied: grpcio-status<2.0.dev0,>=1.33.2 in /usr/local/lib/python3.11/dist-packages (from google-api-core[grpc]!=2.0.*,!=2.1.*,!=2.10.*,!=2.2.*,!=2.3.*,!=2.4.*,!=2.5.*,!=2.6.*,!=2.7.*,!=2.8.*,!=2.9.*,<3.0.0dev,>=1.34.1->google-ai-generativelanguage==0.6.15->google-generativeai) (1.62.3)\n",
            "Requirement already satisfied: pyparsing!=3.0.0,!=3.0.1,!=3.0.2,!=3.0.3,<4,>=2.4.2 in /usr/local/lib/python3.11/dist-packages (from httplib2<1.dev0,>=0.19.0->google-api-python-client->google-generativeai) (3.2.1)\n",
            "Requirement already satisfied: pyasn1<0.7.0,>=0.4.6 in /usr/local/lib/python3.11/dist-packages (from pyasn1-modules>=0.2.1->google-auth>=2.15.0->google-generativeai) (0.6.1)\n",
            "Requirement already satisfied: charset-normalizer<4,>=2 in /usr/local/lib/python3.11/dist-packages (from requests<3.0.0.dev0,>=2.18.0->google-api-core->google-generativeai) (3.4.1)\n",
            "Requirement already satisfied: idna<4,>=2.5 in /usr/local/lib/python3.11/dist-packages (from requests<3.0.0.dev0,>=2.18.0->google-api-core->google-generativeai) (3.10)\n",
            "Requirement already satisfied: urllib3<3,>=1.21.1 in /usr/local/lib/python3.11/dist-packages (from requests<3.0.0.dev0,>=2.18.0->google-api-core->google-generativeai) (2.3.0)\n",
            "Requirement already satisfied: certifi>=2017.4.17 in /usr/local/lib/python3.11/dist-packages (from requests<3.0.0.dev0,>=2.18.0->google-api-core->google-generativeai) (2025.1.31)\n"
          ]
        }
      ]
    },
    {
      "cell_type": "code",
      "source": [
        "import PIL.Image\n",
        "import google.generativeai as genai\n",
        "img=PIL.Image.open('image1.jpg')\n",
        "img\n",
        "model=genai.GenerativeModel('gemini-1.5-flash')\n",
        "response=model.generate_content([\"Write a short, engaging blog post based on this picture.It should include a description of the meal in the photo and talk about my journey meal prepping.\", img],\n",
        "stream=True)\n",
        "response.resolve()"
      ],
      "metadata": {
        "id": "tFLW0j4PYlFc"
      },
      "execution_count": 21,
      "outputs": []
    },
    {
      "cell_type": "code",
      "source": [
        "to_markdown(response.text)"
      ],
      "metadata": {
        "colab": {
          "base_uri": "https://localhost:8080/",
          "height": 330
        },
        "id": "HuYV6xA2beBt",
        "outputId": "e4024048-c84c-456b-d308-57e9e60ec59a"
      },
      "execution_count": 22,
      "outputs": [
        {
          "output_type": "execute_result",
          "data": {
            "text/plain": [
              "<IPython.core.display.Markdown object>"
            ],
            "text/markdown": "> ## My Meal Prep Journey: From Chaos to Delicious!\n> \n> Look at this beautiful sight!  These aren't just any takeout containers; they're my meticulously crafted, healthy lunches for the week. Each one is packed with fluffy white rice, tender teriyaki chicken, vibrant orange and red bell peppers, and a generous helping of steamed broccoli.  It's a flavor explosion in every bite, and the best part?  I made it all myself!\n> \n> \n> My meal prep journey hasn't always been this picture-perfect.  Let's just say it started with a lot of takeout containers filled with questionable choices and ended with a lot of wasted food and money.  I was tired of the endless cycle of unhealthy eating and the stress of figuring out what to have for lunch every day.\n> \n> \n> So, I decided to take control.  It began with small steps:  planning my meals for the week, making a grocery list, and setting aside a couple of hours on Sunday to prep everything.  At first, it felt overwhelming, but the more I did it, the easier it became, and the more I enjoyed the process.\n> \n> \n> Now, meal prepping is my self-care ritual. I love the sense of accomplishment, the satisfaction of knowing I have healthy, delicious meals ready to go, and the extra time it frees up during the week.  This teriyaki chicken and veggie bowl is a testament to that. It’s nutritious, satisfying, and perfectly portioned – which is key for maintaining a healthy lifestyle.\n> \n> \n> If you're thinking about starting your own meal prep journey, I encourage you to give it a try. Start small, don't be afraid to experiment with recipes, and most importantly, find what works best for you.  The rewards are totally worth the effort!\n"
          },
          "metadata": {},
          "execution_count": 22
        }
      ]
    },
    {
      "cell_type": "code",
      "source": [
        "response=model.generate_content([\"Generate an accurate caption for this image.\",img])\n",
        "print(response.text)"
      ],
      "metadata": {
        "colab": {
          "base_uri": "https://localhost:8080/",
          "height": 398
        },
        "id": "36O22XA6ckvQ",
        "outputId": "664f7828-177d-4889-ca7a-2aac15b0b81f"
      },
      "execution_count": 23,
      "outputs": [
        {
          "output_type": "stream",
          "name": "stdout",
          "text": [
            "Here are a few caption options for the image of two meal-prepped containers:\n",
            "\n",
            "**Option 1 (Simple & Descriptive):**\n",
            "\n",
            "> Healthy and delicious meal prep!  Chicken and broccoli with rice and carrots. Ready for the week.\n",
            "\n",
            "**Option 2 (More Engaging):**\n",
            "\n",
            "> Lunch goals!  These chicken and veggie bowls are packed with flavor and ready in minutes.  What's your favorite meal prep recipe?\n",
            "\n",
            "**Option 3 (Focus on Convenience):**\n",
            "\n",
            "> Making healthy eating easy.  These prepped meals are perfect for busy days. #mealprep #healthyfood #easymeals\n",
            "\n",
            "**Option 4 (A bit more playful):**\n",
            "\n",
            "> My kind of takeout.  Homemade, healthy, and ready whenever I am!\n",
            "\n",
            "\n",
            "The best option will depend on the intended audience and platform.\n",
            "\n"
          ]
        }
      ]
    },
    {
      "cell_type": "code",
      "source": [
        "response=model.generate_content([\"Generate an negative caption for this image.\",img])\n",
        "print(response.text)"
      ],
      "metadata": {
        "colab": {
          "base_uri": "https://localhost:8080/",
          "height": 543
        },
        "id": "0DSvz8kHeDUY",
        "outputId": "0d5ce1bb-4114-4a5f-eec1-fcdf9c9bcf72"
      },
      "execution_count": 24,
      "outputs": [
        {
          "output_type": "stream",
          "name": "stdout",
          "text": [
            "Here are some negative captions for the image of the two containers of food:\n",
            "\n",
            "**Focusing on the food itself:**\n",
            "\n",
            "* \"Another sad attempt at healthy eating.\"\n",
            "* \"My diet is going as well as this looks.\"\n",
            "* \"This is what disappointment tastes like.\"\n",
            "* \"Microwaved mediocrity.\"\n",
            "* \"The epitome of bland.\"\n",
            "* \"Looks like something scraped from the bottom of a steamer basket.\"\n",
            "\n",
            "**Focusing on the experience:**\n",
            "\n",
            "* \"Meal prep? More like meal *dep*.\"\n",
            "* \"This is my 'I give up' lunch.\"\n",
            "* \"This is why I don't meal prep.\"\n",
            "* \"The highlight of my day? Nope.\"\n",
            "* \"So excited for another day of eating this.\"\n",
            "\n",
            "\n",
            "**More sarcastic/humorous:**\n",
            "\n",
            "* \"My therapist says I need to embrace my feelings...this is how that's going.\"\n",
            "* \"This is my 'balanced' diet.\"\n",
            "* \"Living my best life, one flavorless bite at a time.\"\n",
            "* \"It's not about the quantity, it's about the lack of quality.\"\n",
            "\n",
            "The best caption will depend on the specific tone and humor you're going for.\n",
            "\n"
          ]
        }
      ]
    },
    {
      "cell_type": "code",
      "source": [
        "from PIL import Image\n",
        "image_path='girl.jpg'\n",
        "image=Image.open(image_path)\n",
        "response=model.generate_content([\"Describe this image in detail.\",image])\n",
        "print(response.text)"
      ],
      "metadata": {
        "colab": {
          "base_uri": "https://localhost:8080/",
          "height": 273
        },
        "id": "doBO2LFNefeI",
        "outputId": "ca0cba8f-692b-44bb-aa1e-911358e4d6ed"
      },
      "execution_count": 26,
      "outputs": [
        {
          "output_type": "stream",
          "name": "stdout",
          "text": [
            "Here's a description of the image:\n",
            "\n",
            "Close-up view of a woman with shoulder-length, curly brown hair. \n",
            "\n",
            "\n",
            "She is smiling and gesturing with her right index finger, pointing towards something off-camera. Her expression is friendly and approachable. She appears to be of South Asian descent. \n",
            "\n",
            "\n",
            "She is wearing a teal-colored, three-quarter sleeve tunic or kurta. The tunic has a subtle, repeating gold pattern on it. The neckline is a modest, open collar. Her arms are crossed, but her right arm is extended slightly to point.\n",
            "\n",
            "\n",
            "The background is a plain, bright white, which keeps the focus entirely on the woman. The lighting is soft and even, minimizing shadows on her face. The overall impression is a clean, well-lit portrait of a woman making a gesture of suggestion or direction.\n",
            "\n"
          ]
        }
      ]
    },
    {
      "cell_type": "code",
      "source": [
        "response=model.generate_content([\"What emoitons can you detect in this image?\",image])\n",
        "print(response.text)"
      ],
      "metadata": {
        "colab": {
          "base_uri": "https://localhost:8080/",
          "height": 162
        },
        "id": "RGDXjj3AgQJj",
        "outputId": "255c3756-232d-49c1-a9ee-e393a926d597"
      },
      "execution_count": 27,
      "outputs": [
        {
          "output_type": "stream",
          "name": "stdout",
          "text": [
            "The woman in the image appears to be expressing:\n",
            "\n",
            "* **Happiness/Contentment:** Her smile is genuine and relaxed, suggesting a positive emotional state.\n",
            "* **Helpfulness/Guidance:** Her pointing gesture indicates a willingness to assist or direct someone.  It suggests she is offering information or suggesting a direction.\n",
            "* **Confidence:**  Her posture and direct gaze convey self-assurance.\n",
            "\n",
            "There's no indication of negative emotions in the image.\n",
            "\n"
          ]
        }
      ]
    },
    {
      "cell_type": "code",
      "source": [],
      "metadata": {
        "id": "YakxzAwGhrJT"
      },
      "execution_count": null,
      "outputs": []
    }
  ]
}
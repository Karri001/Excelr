{
  "nbformat": 4,
  "nbformat_minor": 0,
  "metadata": {
    "colab": {
      "provenance": []
    },
    "kernelspec": {
      "name": "python3",
      "display_name": "Python 3"
    },
    "language_info": {
      "name": "python"
    }
  },
  "cells": [
    {
      "cell_type": "code",
      "execution_count": null,
      "metadata": {
        "id": "jP0mhxQKyRZP"
      },
      "outputs": [],
      "source": []
    },
    {
      "cell_type": "markdown",
      "source": [
        "What is Cloud Computing?\n",
        "Cloud computing is the delivery of computing services—including servers, storage, databases, networking, software, analytics, and intelligence—over the Internet (“the cloud”) to offer faster innovation, flexible resources, and economies of scale.\n",
        "\n",
        "Types of Cloud Computing\n",
        "Public Cloud – Services offered over the public internet and shared among multiple customers (e.g., AWS, Microsoft Azure, Google Cloud).\n",
        "Private Cloud – Dedicated cloud infrastructure for a single organization.\n",
        "Hybrid Cloud – A mix of public and private clouds for greater flexibility.\n",
        "Cloud Computing Service Models\n",
        "Infrastructure as a Service (IaaS) – Provides virtualized computing resources (e.g., AWS EC2, Google Compute Engine).\n",
        "Platform as a Service (PaaS) – Provides development and deployment platforms (e.g., Google App Engine, Microsoft Azure App Services).\n",
        "Software as a Service (SaaS) – Delivers software applications over the internet (e.g., Google Workspace, Dropbox, Salesforce).\n",
        "Benefits of Cloud Computing\n",
        "Cost Efficiency – Reduces capital expenditures on hardware.\n",
        "Scalability – Easily scale resources up or down.\n",
        "Flexibility – Access services from anywhere.\n",
        "Security – Cloud providers offer strong security measures.\n",
        "Automatic Updates – Regular software and security updates.\n",
        "Challenges of Cloud Computing\n",
        "Security Concerns – Data breaches and unauthorized access.\n",
        "Downtime Risks – Service outages may disrupt operations.\n",
        "Compliance Issues – Industry-specific regulations can be a challenge.\n",
        "Future Trends in Cloud Computing\n",
        "Edge Computing – Bringing computation closer to data sources.\n",
        "AI and ML Integration – AI-powered cloud services.\n",
        "Serverless Computing – Auto-scaling without managing servers.\n",
        "Multi-cloud Strategy – Using multiple cloud providers."
      ],
      "metadata": {
        "id": "S9dFcttk9oIe"
      }
    },
    {
      "cell_type": "code",
      "source": [],
      "metadata": {
        "id": "Okfouj-w9uFs"
      },
      "execution_count": null,
      "outputs": []
    }
  ]
}